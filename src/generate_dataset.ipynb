{
 "cells": [
  {
   "cell_type": "code",
   "execution_count": 1,
   "id": "b7c532d8-3497-4c5d-8d62-532f18f2b415",
   "metadata": {},
   "outputs": [
    {
     "name": "stdout",
     "output_type": "stream",
     "text": [
      "Dataset created successfully in dataset.csv ✅\n"
     ]
    }
   ],
   "source": [
    "import csv\n",
    "import random\n",
    "\n",
    "# Open the CSV file for writing\n",
    "with open('dataset.csv', mode='w', newline='') as file:\n",
    "    writer = csv.writer(file)\n",
    "    writer.writerow(['x', 'y'])  # header\n",
    "\n",
    "    for _ in range(100):\n",
    "        x = random.uniform(0, 100)\n",
    "        noise = random.uniform(-10, 10)\n",
    "        y = 2 * x + 3 + noise\n",
    "        writer.writerow([x, y])\n",
    "\n",
    "print(\"Dataset created successfully in dataset.csv ✅\")\n"
   ]
  },
  {
   "cell_type": "code",
   "execution_count": null,
   "id": "5e78ff66-75e3-4008-81ca-4dbc6a67430f",
   "metadata": {},
   "outputs": [],
   "source": []
  }
 ],
 "metadata": {
  "kernelspec": {
   "display_name": "Python [conda env:base] *",
   "language": "python",
   "name": "conda-base-py"
  },
  "language_info": {
   "codemirror_mode": {
    "name": "ipython",
    "version": 3
   },
   "file_extension": ".py",
   "mimetype": "text/x-python",
   "name": "python",
   "nbconvert_exporter": "python",
   "pygments_lexer": "ipython3",
   "version": "3.12.7"
  }
 },
 "nbformat": 4,
 "nbformat_minor": 5
}
