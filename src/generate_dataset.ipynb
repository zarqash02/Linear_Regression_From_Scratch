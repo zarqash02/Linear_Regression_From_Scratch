{
 "cells": [
  {
   "cell_type": "code",
   "execution_count": null,
   "id": "b7c532d8-3497-4c5d-8d62-532f18f2b415",
   "metadata": {},
   "outputs": [
    {
     "name": "stdout",
     "output_type": "stream",
     "text": [
      "Dataset created successfully in dataset.csv ✅\n"
     ]
    }
   ],
   "source": [
    "\"\"\"\n",
    "generate_dataset.py\n",
    "\n",
    "Generates a simple linear dataset with optional Gaussian noise and saves it as a CSV file.\n",
    "\"\"\"\n",
    "\n",
    "import csv\n",
    "import random\n",
    "\n",
    "def generate_data(n=100, slope=2, intercept=1, noise=10):\n",
    "    \"\"\"\n",
    "    Generates data for y = mx + b with added noise.\n",
    "    \n",
    "    Parameters:\n",
    "        n (int): Number of data points\n",
    "        slope (float): The slope (m) of the line\n",
    "        intercept (float): The y-intercept (b)\n",
    "        noise (float): Max noise added to y\n",
    "\n",
    "    Returns:\n",
    "        list of tuples: List containing (x, y) data points\n",
    "    \"\"\"\n",
    "    data = []\n",
    "    for i in range(n):\n",
    "        x = i\n",
    "        y = slope * x + intercept + random.uniform(-noise, noise)\n",
    "        data.append((x, y))\n",
    "    return data\n",
    "\n",
    "def save_to_csv(data, filename='dataset.csv'):\n",
    "    \"\"\"\n",
    "    Saves the generated data to a CSV file.\n",
    "\n",
    "    Parameters:\n",
    "        data (list of tuples): The (x, y) points to save\n",
    "        filename (str): The CSV file path\n",
    "    \"\"\"\n",
    "    with open(filename, mode='w', newline='') as file:\n",
    "        writer = csv.writer(file)\n",
    "        writer.writerow(['x', 'y'])  # header\n",
    "        writer.writerows(data)\n",
    "\n",
    "if __name__ == \"__main__\":\n",
    "    dataset = generate_data()\n",
    "    save_to_csv(dataset)\n",
    "    print(\"✅ Dataset generated and saved to 'dataset.csv'\")\n"
   ]
  },
  {
   "cell_type": "code",
   "execution_count": null,
   "id": "5e78ff66-75e3-4008-81ca-4dbc6a67430f",
   "metadata": {},
   "outputs": [],
   "source": []
  }
 ],
 "metadata": {
  "kernelspec": {
   "display_name": "Python [conda env:base] *",
   "language": "python",
   "name": "conda-base-py"
  },
  "language_info": {
   "codemirror_mode": {
    "name": "ipython",
    "version": 3
   },
   "file_extension": ".py",
   "mimetype": "text/x-python",
   "name": "python",
   "nbconvert_exporter": "python",
   "pygments_lexer": "ipython3",
   "version": "3.12.7"
  }
 },
 "nbformat": 4,
 "nbformat_minor": 5
}
